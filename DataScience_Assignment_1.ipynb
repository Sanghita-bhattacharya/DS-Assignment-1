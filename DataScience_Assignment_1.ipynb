{
  "nbformat": 4,
  "nbformat_minor": 0,
  "metadata": {
    "colab": {
      "provenance": []
    },
    "kernelspec": {
      "name": "python3",
      "display_name": "Python 3"
    },
    "language_info": {
      "name": "python"
    }
  },
  "cells": [
    {
      "cell_type": "code",
      "execution_count": null,
      "metadata": {
        "id": "O-sFHSHHnf1k"
      },
      "outputs": [],
      "source": []
    },
    {
      "cell_type": "markdown",
      "source": [
        "Q1. Create one variable containing following type of data:\n",
        "\n",
        "(i) string\n",
        "\n",
        "(ii) list\n",
        "\n",
        "(iii) float\n",
        "\n",
        "(iv) tuple\n"
      ],
      "metadata": {
        "id": "CXumvD8ZoAK8"
      }
    },
    {
      "cell_type": "code",
      "source": [
        "#string\n",
        "s='Sanghita'"
      ],
      "metadata": {
        "id": "osLJ9lLmoBaK"
      },
      "execution_count": null,
      "outputs": []
    },
    {
      "cell_type": "code",
      "source": [
        "#list\n",
        "l=[1,2,3,4,5,'Sanghita',1.5,'@']"
      ],
      "metadata": {
        "id": "pA2E1MRFoMHB"
      },
      "execution_count": null,
      "outputs": []
    },
    {
      "cell_type": "code",
      "source": [
        "#float\n",
        "f=1.5"
      ],
      "metadata": {
        "id": "5db9VTYWokU7"
      },
      "execution_count": null,
      "outputs": []
    },
    {
      "cell_type": "code",
      "source": [
        "#tuple\n",
        "t=('a','b','c',1,2,3,4)"
      ],
      "metadata": {
        "id": "3DlrF399oxzm"
      },
      "execution_count": null,
      "outputs": []
    },
    {
      "cell_type": "code",
      "source": [
        "var1='[ DS , ML , Python]'\n",
        "type (var1)"
      ],
      "metadata": {
        "colab": {
          "base_uri": "https://localhost:8080/"
        },
        "id": "W8yEibs0pKGg",
        "outputId": "63226297-805a-4e4a-8627-035d760a3248"
      },
      "execution_count": null,
      "outputs": [
        {
          "output_type": "execute_result",
          "data": {
            "text/plain": [
              "str"
            ]
          },
          "metadata": {},
          "execution_count": 13
        }
      ]
    },
    {
      "cell_type": "markdown",
      "source": [
        "Q2. Given are some following variables containing data:\n",
        "\n",
        "(i) var1 = ‘ ‘\n",
        "\n",
        "(ii) var2 = ‘[ DS , ML , Python]’\n",
        "\n",
        "(iii) var3 = [ ‘DS’ , ’ML’ , ‘Python’ ]\n",
        "\n",
        "(iv) var4 = 1.\n",
        "\n",
        "What will be the data type of the above given variable.\n",
        "\n"
      ],
      "metadata": {
        "id": "eE1Kh3HxpeOw"
      }
    },
    {
      "cell_type": "markdown",
      "source": [
        "i) String\n",
        "\n",
        "ii) String\n",
        "\n",
        "iii) list\n",
        "\n",
        "iv) float"
      ],
      "metadata": {
        "id": "01fQn4KLp-ou"
      }
    },
    {
      "cell_type": "code",
      "source": [],
      "metadata": {
        "id": "W1ySjMzMrPDa"
      },
      "execution_count": null,
      "outputs": []
    },
    {
      "cell_type": "markdown",
      "source": [
        "Q3. Explain the use of the following operators using an example:\n",
        "\n",
        "(i) /\n",
        "\n",
        "(ii) %  \n",
        "\n",
        "(iii) //\n",
        "\n",
        "(iv) **\n"
      ],
      "metadata": {
        "id": "VWRZihlnrTej"
      }
    },
    {
      "cell_type": "markdown",
      "source": [
        "3.i) This operator returns the quotient value in the form of Float.\n",
        "\n",
        "X= 10/2\n",
        "\n",
        "X= 5.0\n",
        "\n",
        "3.ii) This operator returns the remainder value.\n",
        "\n",
        "X= 5%2\n",
        "\n",
        "X=1\n",
        "\n",
        "3.iii) This operator returns the quotient value in the form of integer.\n",
        "\n",
        "X=10//2\n",
        "\n",
        "X= 5\n",
        "\n",
        "3.iv) a**b\n",
        "\n",
        "This operator returns the value of a to the power of b.\n",
        "\n",
        "x=8**2\n",
        "\n",
        "x=64\n"
      ],
      "metadata": {
        "id": "BrQv6Dt_sbFN"
      }
    },
    {
      "cell_type": "code",
      "source": [],
      "metadata": {
        "id": "VTY0p8yDrXGN"
      },
      "execution_count": null,
      "outputs": []
    },
    {
      "cell_type": "markdown",
      "source": [
        "Q4. Create a list of length 10 of your choice containing multiple types of data. Using for loop print the  element and its data type."
      ],
      "metadata": {
        "id": "WVV3IUz4uFwF"
      }
    },
    {
      "cell_type": "code",
      "source": [
        "data=['Sanghita',1,2,3,4,15*6,4**2, 6+8,5.9,True]\n",
        "for i in data:\n",
        "  print (i)\n"
      ],
      "metadata": {
        "id": "7_yjIFr4vtmL",
        "colab": {
          "base_uri": "https://localhost:8080/"
        },
        "outputId": "23eedf41-3e97-4484-82ce-a7c8afd8e2cf"
      },
      "execution_count": null,
      "outputs": [
        {
          "output_type": "stream",
          "name": "stdout",
          "text": [
            "Sanghita\n",
            "1\n",
            "2\n",
            "3\n",
            "4\n",
            "90\n",
            "16\n",
            "14\n",
            "5.9\n",
            "True\n"
          ]
        }
      ]
    },
    {
      "cell_type": "code",
      "source": [
        "for i in data:\n",
        "  print (type (i))"
      ],
      "metadata": {
        "id": "wtbbn23wvtqx",
        "colab": {
          "base_uri": "https://localhost:8080/"
        },
        "outputId": "6a1369fd-2899-4b26-ca62-92fdc8516e21"
      },
      "execution_count": null,
      "outputs": [
        {
          "output_type": "stream",
          "name": "stdout",
          "text": [
            "<class 'str'>\n",
            "<class 'int'>\n",
            "<class 'int'>\n",
            "<class 'int'>\n",
            "<class 'int'>\n",
            "<class 'int'>\n",
            "<class 'int'>\n",
            "<class 'int'>\n",
            "<class 'float'>\n",
            "<class 'bool'>\n"
          ]
        }
      ]
    },
    {
      "cell_type": "code",
      "source": [],
      "metadata": {
        "id": "Qk5PQFz02Ees"
      },
      "execution_count": null,
      "outputs": []
    },
    {
      "cell_type": "markdown",
      "source": [
        "Q5. Using a while loop, verify if the number A is purely divisible by number B and if so then how many  times it can be divisible."
      ],
      "metadata": {
        "id": "MpYRQJcU3ywX"
      }
    },
    {
      "cell_type": "code",
      "source": [
        "a=125 #initialisation\n",
        "b=5 #initialisation\n",
        "count=0\n",
        "while (a%b==0): #Condition\n",
        "  count = count+1 #Execution\n",
        "  a= a/b #increment/decrement\n",
        "print (count)\n"
      ],
      "metadata": {
        "id": "az0OQSCn32zm",
        "colab": {
          "base_uri": "https://localhost:8080/"
        },
        "outputId": "e13dc625-b734-4f01-fcef-be1ea4a756f5"
      },
      "execution_count": 27,
      "outputs": [
        {
          "output_type": "stream",
          "name": "stdout",
          "text": [
            "3\n"
          ]
        }
      ]
    },
    {
      "cell_type": "markdown",
      "source": [
        "Q6. Create a list containing 25 int type data. Using for loop and if-else condition print if the element is  divisible by 3 or not."
      ],
      "metadata": {
        "id": "QJgGevVH7MVk"
      }
    },
    {
      "cell_type": "code",
      "source": [
        "Data=list(range(1,26))\n",
        "for i in Data:\n",
        "  if i%3==0:\n",
        "    print(f'{i} is divisble by 3')\n",
        "  else:\n",
        "    print(f'{i} is not divisible by 3')"
      ],
      "metadata": {
        "colab": {
          "base_uri": "https://localhost:8080/"
        },
        "id": "tKWD-JvA7Ngd",
        "outputId": "11f38767-0fc0-4d69-e8db-89bf7ae30fdf"
      },
      "execution_count": 36,
      "outputs": [
        {
          "output_type": "stream",
          "name": "stdout",
          "text": [
            "1 is not divisible by 3\n",
            "2 is not divisible by 3\n",
            "3 is divisble by 3\n",
            "4 is not divisible by 3\n",
            "5 is not divisible by 3\n",
            "6 is divisble by 3\n",
            "7 is not divisible by 3\n",
            "8 is not divisible by 3\n",
            "9 is divisble by 3\n",
            "10 is not divisible by 3\n",
            "11 is not divisible by 3\n",
            "12 is divisble by 3\n",
            "13 is not divisible by 3\n",
            "14 is not divisible by 3\n",
            "15 is divisble by 3\n",
            "16 is not divisible by 3\n",
            "17 is not divisible by 3\n",
            "18 is divisble by 3\n",
            "19 is not divisible by 3\n",
            "20 is not divisible by 3\n",
            "21 is divisble by 3\n",
            "22 is not divisible by 3\n",
            "23 is not divisible by 3\n",
            "24 is divisble by 3\n",
            "25 is not divisible by 3\n"
          ]
        }
      ]
    },
    {
      "cell_type": "markdown",
      "source": [
        "Q7. What do you understand about mutable and immutable data types? Give examples for both showing  this property."
      ],
      "metadata": {
        "id": "mv6CrLbB9_1X"
      }
    },
    {
      "cell_type": "markdown",
      "source": [
        "Mutable Data types are those which can be edited later.\n",
        "\n",
        "For example:\n",
        "\n",
        "l=[1,2,3,4,5]\n"
      ],
      "metadata": {
        "id": "0mhpCthm-DbZ"
      }
    },
    {
      "cell_type": "code",
      "source": [
        "l=[1,2,3,4,5]\n",
        "l[2]=10"
      ],
      "metadata": {
        "id": "YFWiHvoI-ZhF"
      },
      "execution_count": null,
      "outputs": []
    },
    {
      "cell_type": "code",
      "source": [
        "l"
      ],
      "metadata": {
        "colab": {
          "base_uri": "https://localhost:8080/"
        },
        "id": "ES7xytmp-bM4",
        "outputId": "1cbec1f4-0910-427e-de93-649fd533550f"
      },
      "execution_count": null,
      "outputs": [
        {
          "output_type": "execute_result",
          "data": {
            "text/plain": [
              "[1, 2, 10, 4, 5]"
            ]
          },
          "metadata": {},
          "execution_count": 19
        }
      ]
    },
    {
      "cell_type": "markdown",
      "source": [
        "Immutable Data types are those where we cannot edit the data later.\n",
        "\n",
        "Once the variable is defined, it cannot be changed.\n",
        "\n",
        "For Example:\n",
        "\n",
        "s=(1,2,3,4,5)"
      ],
      "metadata": {
        "id": "zMaMpaH5CDBE"
      }
    },
    {
      "cell_type": "code",
      "source": [
        "s= (1,2,3,4,5)\n",
        "s(2)==7"
      ],
      "metadata": {
        "colab": {
          "base_uri": "https://localhost:8080/",
          "height": 192
        },
        "id": "A_DCZrUACfJq",
        "outputId": "6c189a7d-5a8b-4064-b45f-4eef3a8be486"
      },
      "execution_count": null,
      "outputs": [
        {
          "output_type": "error",
          "ename": "TypeError",
          "evalue": "ignored",
          "traceback": [
            "\u001b[0;31m---------------------------------------------------------------------------\u001b[0m",
            "\u001b[0;31mTypeError\u001b[0m                                 Traceback (most recent call last)",
            "\u001b[0;32m<ipython-input-21-f109d867532e>\u001b[0m in \u001b[0;36m<cell line: 2>\u001b[0;34m()\u001b[0m\n\u001b[1;32m      1\u001b[0m \u001b[0ms\u001b[0m\u001b[0;34m=\u001b[0m \u001b[0;34m(\u001b[0m\u001b[0;36m1\u001b[0m\u001b[0;34m,\u001b[0m\u001b[0;36m2\u001b[0m\u001b[0;34m,\u001b[0m\u001b[0;36m3\u001b[0m\u001b[0;34m,\u001b[0m\u001b[0;36m4\u001b[0m\u001b[0;34m,\u001b[0m\u001b[0;36m5\u001b[0m\u001b[0;34m)\u001b[0m\u001b[0;34m\u001b[0m\u001b[0;34m\u001b[0m\u001b[0m\n\u001b[0;32m----> 2\u001b[0;31m \u001b[0ms\u001b[0m\u001b[0;34m(\u001b[0m\u001b[0;36m2\u001b[0m\u001b[0;34m)\u001b[0m\u001b[0;34m==\u001b[0m\u001b[0;36m7\u001b[0m\u001b[0;34m\u001b[0m\u001b[0;34m\u001b[0m\u001b[0m\n\u001b[0m",
            "\u001b[0;31mTypeError\u001b[0m: 'tuple' object is not callable"
          ]
        }
      ]
    },
    {
      "cell_type": "code",
      "source": [],
      "metadata": {
        "id": "1Ge0PAeMMlFX"
      },
      "execution_count": null,
      "outputs": []
    }
  ]
}